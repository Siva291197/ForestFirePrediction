{
 "cells": [
  {
   "cell_type": "code",
   "execution_count": 1,
   "id": "b11a870a",
   "metadata": {},
   "outputs": [],
   "source": [
    "from flask import Flask, request,render_template\n",
    "import pickle as pkl\n",
    "import numpy as np\n",
    "import pandas as pd\n",
    "from sklearn.preprocessing import StandardScaler"
   ]
  },
  {
   "cell_type": "code",
   "execution_count": 2,
   "id": "5c5ef175",
   "metadata": {},
   "outputs": [],
   "source": [
    "# Create a WSGI application.\n",
    "app = Flask(__name__)"
   ]
  },
  {
   "cell_type": "code",
   "execution_count": 3,
   "id": "6661a594",
   "metadata": {},
   "outputs": [],
   "source": [
    "# To display the home page.\n",
    "@app.route('/',endpoint = 'home',methods = ['GET'])\n",
    "def home_page():\n",
    "    return render_template('home.html')"
   ]
  },
  {
   "cell_type": "code",
   "execution_count": 4,
   "id": "263466f5",
   "metadata": {},
   "outputs": [],
   "source": [
    "# To load the pickle files of StandardScaler & Ridge regression model.\n",
    "standard_scaler = pkl.load(open('StandardScaler.pkl','rb'))\n",
    "ridge_model = pkl.load(open('RidgeRegression.pkl','rb'))"
   ]
  },
  {
   "cell_type": "code",
   "execution_count": 5,
   "id": "257839d5",
   "metadata": {},
   "outputs": [],
   "source": [
    "# To Predict the forest fire using ridge regression.\n",
    "\n",
    "@app.route('/predictdata', methods = ['GET','POST'])\n",
    "def predict_data():\n",
    "    if request.method == 'POST':\n",
    "        Temperature = float(request.form.get('Temperature'))\n",
    "        RH = float(request.form.get('RH'))\n",
    "        Ws = float(request.form.get('Ws'))\n",
    "        Rain = float(request.form.get('Rain'))\n",
    "        FFMC = float(request.form.get('FFMC'))\n",
    "        DMC = float(request.form.get('DMC'))\n",
    "        ISI = float(request.form.get('ISI'))\n",
    "        Classes = float(request.form.get('Classes'))\n",
    "        Region = float(request.form.get('Region'))\n",
    "        \n",
    "        new_data_scaled = standard_scaler.transform([[Temperature,RH,Ws,Rain,FFMC,DMC,ISI,Classes,Region]])\n",
    "        result = ridge_model.predict(new_data_scaled)\n",
    "        \n",
    "        return render_template('parameters.html',results = result[0])\n",
    "    else:\n",
    "        return render_template('parameters.html')"
   ]
  },
  {
   "cell_type": "code",
   "execution_count": 6,
   "id": "975598c2",
   "metadata": {},
   "outputs": [
    {
     "name": "stdout",
     "output_type": "stream",
     "text": [
      " * Serving Flask app '__main__'\n",
      " * Debug mode: off\n"
     ]
    },
    {
     "name": "stderr",
     "output_type": "stream",
     "text": [
      "WARNING: This is a development server. Do not use it in a production deployment. Use a production WSGI server instead.\n",
      " * Running on all addresses (0.0.0.0)\n",
      " * Running on http://127.0.0.1:5000\n",
      " * Running on http://192.168.29.125:5000\n",
      "Press CTRL+C to quit\n",
      "127.0.0.1 - - [26/Jan/2025 14:38:59] \"GET / HTTP/1.1\" 200 -\n",
      "127.0.0.1 - - [26/Jan/2025 14:39:01] \"GET /predictdata HTTP/1.1\" 200 -\n"
     ]
    }
   ],
   "source": [
    "# To run the application.\n",
    "\n",
    "if __name__ == '__main__':\n",
    "    app.run(host='0.0.0.0')"
   ]
  },
  {
   "cell_type": "code",
   "execution_count": null,
   "id": "32500b5a",
   "metadata": {},
   "outputs": [],
   "source": [
    "# Points to Note:\n",
    "# 1. result variable will always return the output in the form of list/arrays. Hence, we need to provide result[0] when\n",
    "#    rendering the value to html.\n",
    "# 2. In html, name is the variable which we will access in predict_data() function. So, it is important that whatever\n",
    "#    variable we provide in html, the same should be accessed inside the function.\n",
    "# For ex, name = 'Temperature' --> temperature = float(request.form.get('Temperature'))\n",
    "# 3. In html, placeholder is used to just provide the hint to the user of what this field is all about.\n",
    "# 4. <form action = \"{{url_for('predict_data')}}\", method = 'POST'> --> used to create a form for the user and route to \n",
    "# predict_data() function whenever user is requesting for method POST."
   ]
  }
 ],
 "metadata": {
  "kernelspec": {
   "display_name": "Python 3 (ipykernel)",
   "language": "python",
   "name": "python3"
  },
  "language_info": {
   "codemirror_mode": {
    "name": "ipython",
    "version": 3
   },
   "file_extension": ".py",
   "mimetype": "text/x-python",
   "name": "python",
   "nbconvert_exporter": "python",
   "pygments_lexer": "ipython3",
   "version": "3.10.9"
  }
 },
 "nbformat": 4,
 "nbformat_minor": 5
}
